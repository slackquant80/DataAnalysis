{
 "cells": [
  {
   "cell_type": "code",
   "execution_count": 2,
   "metadata": {},
   "outputs": [
    {
     "name": "stdout",
     "output_type": "stream",
     "text": [
      "[10, 20, 30]\n"
     ]
    }
   ],
   "source": [
    "numbers = [10, 20, 30, 40, 50, 60, 70]\n",
    "subset1 = numbers[ :3]         # 0:3 해줘도 됨\n",
    "print(subset1)"
   ]
  },
  {
   "cell_type": "code",
   "execution_count": null,
   "metadata": {},
   "outputs": [
    {
     "name": "stdout",
     "output_type": "stream",
     "text": [
      "[50, 60, 70]\n"
     ]
    }
   ],
   "source": [
    "subset2 = numbers[-3:]         # -3:7 해줘도 됨\n",
    "print(subset2)"
   ]
  },
  {
   "cell_type": "code",
   "execution_count": 4,
   "metadata": {},
   "outputs": [
    {
     "name": "stdout",
     "output_type": "stream",
     "text": [
      "[10, 30, 50, 70]\n"
     ]
    }
   ],
   "source": [
    "numbers = [10, 20, 30, 40, 50, 60, 70]\n",
    "list1 = numbers[::2]\n",
    "print(list1)"
   ]
  },
  {
   "cell_type": "code",
   "execution_count": 5,
   "metadata": {},
   "outputs": [
    {
     "name": "stdout",
     "output_type": "stream",
     "text": [
      "[70, 60, 50, 40, 30, 20, 10]\n"
     ]
    }
   ],
   "source": [
    "list2 = numbers[::-1]\n",
    "print(list2)"
   ]
  },
  {
   "cell_type": "code",
   "execution_count": 6,
   "metadata": {},
   "outputs": [
    {
     "name": "stdout",
     "output_type": "stream",
     "text": [
      "[70, 50, 30, 10]\n"
     ]
    }
   ],
   "source": [
    "list3 = numbers[::-2]\n",
    "print(list3)"
   ]
  },
  {
   "cell_type": "code",
   "execution_count": 7,
   "metadata": {},
   "outputs": [
    {
     "data": {
      "text/plain": [
       "[70]"
      ]
     },
     "execution_count": 7,
     "metadata": {},
     "output_type": "execute_result"
    }
   ],
   "source": [
    "numbers[-1::]"
   ]
  },
  {
   "cell_type": "code",
   "execution_count": 19,
   "metadata": {},
   "outputs": [
    {
     "name": "stdout",
     "output_type": "stream",
     "text": [
      "[[1, 2, 3, 4], [5, 6, 7, 8]]\n",
      "[[1, 2], [5, 6], [9, 10], [13, 14]]\n"
     ]
    }
   ],
   "source": [
    "# 다차원 리스트 슬라이싱\n",
    "matrix = [\n",
    "    [1, 2, 3, 4],\n",
    "    [5, 6, 7, 8],\n",
    "    [9, 10, 11, 12],\n",
    "    [13, 14, 15, 16]\n",
    "]\n",
    "\n",
    "first_two_rows = matrix[ :2]\n",
    "print(first_two_rows)\n",
    "\n",
    "first_two_columns = [row[ :2] for row in matrix]\n",
    "print(first_two_columns)"
   ]
  },
  {
   "cell_type": "code",
   "execution_count": 8,
   "metadata": {},
   "outputs": [
    {
     "name": "stdout",
     "output_type": "stream",
     "text": [
      "[0, 1, 2, 3, 4]\n"
     ]
    }
   ],
   "source": [
    "## 리스트 컴프리헨션\n",
    "# 일반적\n",
    "numbers = []\n",
    "for i in range(5):\n",
    "    numbers.append(i)\n",
    "    \n",
    "print(numbers)"
   ]
  },
  {
   "cell_type": "code",
   "execution_count": 9,
   "metadata": {},
   "outputs": [
    {
     "name": "stdout",
     "output_type": "stream",
     "text": [
      "[0, 1, 2, 3, 4]\n"
     ]
    }
   ],
   "source": [
    "# 리스트 컴프리헨션\n",
    "numbers = [i for i in range(5)]\n",
    "print(numbers)"
   ]
  },
  {
   "cell_type": "code",
   "execution_count": 10,
   "metadata": {},
   "outputs": [
    {
     "name": "stdout",
     "output_type": "stream",
     "text": [
      "[1, 4, 9, 16, 25]\n"
     ]
    }
   ],
   "source": [
    "# 원소 조작\n",
    "numbers = [1, 2, 3, 4, 5]\n",
    "squares = [num ** 2 for num in numbers]\n",
    "print(squares)"
   ]
  },
  {
   "cell_type": "code",
   "execution_count": 11,
   "metadata": {},
   "outputs": [
    {
     "name": "stdout",
     "output_type": "stream",
     "text": [
      "[2, 4, 6, 8, 10]\n"
     ]
    }
   ],
   "source": [
    "# 조건 추가\n",
    "numbers = [1, 2, 3, 4, 5, 6, 7, 8, 9, 10]\n",
    "even_numbers = [num for num in numbers if num % 2 == 0]\n",
    "print(even_numbers)"
   ]
  },
  {
   "cell_type": "code",
   "execution_count": 20,
   "metadata": {},
   "outputs": [
    {
     "name": "stdout",
     "output_type": "stream",
     "text": [
      "[('사과', '주스'), ('사과', '잼'), ('사과', '통조림'), ('복숭아', '주스'), ('복숭아', '잼'), ('복숭아', '통조림'), ('바나나', '주스'), ('바나나', '잼'), ('바나나', '통조림')]\n"
     ]
    }
   ],
   "source": [
    "# 두 리스트의 모든 조합을 포함하는 리스트 생성\n",
    "list1 = ['사과', '복숭아', '바나나']\n",
    "list2 = ['주스', '잼', '통조림']\n",
    "pairs = [(fruit, product) for fruit in list1 for product in list2]\n",
    "print(pairs)"
   ]
  },
  {
   "cell_type": "code",
   "execution_count": 12,
   "metadata": {},
   "outputs": [
    {
     "name": "stdout",
     "output_type": "stream",
     "text": [
      "{0: 0, 1: 1, 2: 4, 3: 9, 4: 16}\n"
     ]
    }
   ],
   "source": [
    "## 딕셔너리 컴프리헨션\n",
    "# 일반적\n",
    "squares = {}\n",
    "for i in range(5):\n",
    "    squares[i] = i ** 2\n",
    "    \n",
    "print(squares)"
   ]
  },
  {
   "cell_type": "code",
   "execution_count": 13,
   "metadata": {},
   "outputs": [
    {
     "name": "stdout",
     "output_type": "stream",
     "text": [
      "{0: 0, 1: 1, 2: 4, 3: 9, 4: 16}\n"
     ]
    }
   ],
   "source": [
    "# 컴프리헨션\n",
    "squares = {i: i ** 2 for i in range(5)}\n",
    "print(squares)"
   ]
  },
  {
   "cell_type": "code",
   "execution_count": 14,
   "metadata": {},
   "outputs": [
    {
     "name": "stdout",
     "output_type": "stream",
     "text": [
      "상품명: 프린터, 가격: 360000\n"
     ]
    }
   ],
   "source": [
    "# 형식 지정자 사용한 변수 삽입\n",
    "item = '프린터'\n",
    "price = 360000\n",
    "print('상품명: %s, 가격: %d' % (item, price))"
   ]
  },
  {
   "cell_type": "code",
   "execution_count": 15,
   "metadata": {},
   "outputs": [
    {
     "name": "stdout",
     "output_type": "stream",
     "text": [
      "상품명: 프린터, 가격: 360000\n"
     ]
    }
   ],
   "source": [
    "# 새로운 포맷팅\n",
    "item = \"프린터\"\n",
    "price = 360000\n",
    "print(\"상품명: {}, 가격: {}\".format(item, price))"
   ]
  },
  {
   "cell_type": "code",
   "execution_count": 16,
   "metadata": {},
   "outputs": [
    {
     "name": "stdout",
     "output_type": "stream",
     "text": [
      "이름: 홍길동, 나이: 30, 월급: 3500000원\n"
     ]
    }
   ],
   "source": [
    "name = '홍길동'\n",
    "age = 30\n",
    "salary = 3500000\n",
    "tax_rate = 0.1\n",
    "basic_format = '이름: {}, 나이: {}, 월급: {}원'.format(name, age, salary)\n",
    "\n",
    "print(basic_format)"
   ]
  },
  {
   "cell_type": "code",
   "execution_count": 17,
   "metadata": {},
   "outputs": [
    {
     "name": "stdout",
     "output_type": "stream",
     "text": [
      "이름: 홍길동, 나이: 30\n"
     ]
    }
   ],
   "source": [
    "# f-문자열\n",
    "name = '홍길동'\n",
    "age = 30\n",
    "print(f'이름: {name}, 나이: {age}')"
   ]
  },
  {
   "cell_type": "code",
   "execution_count": 18,
   "metadata": {},
   "outputs": [
    {
     "name": "stdout",
     "output_type": "stream",
     "text": [
      "이름: 홍길동, 나이: 30, 월급: 3500000원\n",
      "직원 홍길동의 나이는 30세이고, 홍길동의 세후 월급은 3150000원입니다.\n",
      "직원정보: 이름: 홍길동 나이: 30세 월급: 3,500,000원 세금: 10.0% 실수령액: 3,150,000원\n"
     ]
    }
   ],
   "source": [
    "basic_format = f'이름: {name}, 나이: {age}, 월급: {salary}원'\n",
    "index_format = f'직원 {name}의 나이는 {age}세이고, {name}의 세후 월급은 {int(salary * (1 - tax_rate))}원입니다.'\n",
    "keyword_format = f'직원정보: 이름: {name} 나이: {age}세 월급: {salary:,}원 세금: {tax_rate:.1%} 실수령액: {int(salary * (1 - tax_rate)):,}원'\n",
    "\n",
    "print(basic_format)\n",
    "print(index_format)\n",
    "print(keyword_format)"
   ]
  },
  {
   "cell_type": "code",
   "execution_count": 21,
   "metadata": {},
   "outputs": [
    {
     "name": "stdout",
     "output_type": "stream",
     "text": [
      "학번,이름,데이터베이스,파이썬,클라우드\n",
      "101,김철수,85,78,92\n",
      "102,이영희,76,82,78\n",
      "103,박지민,92,95,85\n",
      "104,최준서,63,70,75\n",
      "105,정미나,88,84,91\n",
      "\n"
     ]
    }
   ],
   "source": [
    "## with 문 사용 예\n",
    "import urllib.request\n",
    "with urllib.request.urlopen('https://raw.githubusercontent.com/jaehwachung/Data-Analysis-with-Open-Source/refs/heads/main/Chapter%203/students.csv') as response:\n",
    "    data = response.read().decode('utf-8')\n",
    "print(data)"
   ]
  },
  {
   "cell_type": "code",
   "execution_count": 3,
   "metadata": {},
   "outputs": [
    {
     "name": "stdout",
     "output_type": "stream",
     "text": [
      "x좌표: 10, y좌표: 20\n",
      "빨강: 255, 초록: 128, 파랑: 0\n",
      "첫 번째 문자: A, 두 번째 문자: B\n"
     ]
    }
   ],
   "source": [
    "## 언패킹 사용\n",
    "coordinates = (10, 20)\n",
    "x, y = coordinates\n",
    "print(f'x좌표: {x}, y좌표: {y}')\n",
    "\n",
    "rgb = [255, 128, 0]\n",
    "red, green, blue = rgb\n",
    "print(f'빨강: {red}, 초록: {green}, 파랑: {blue}')\n",
    "\n",
    "word = 'ABC'\n",
    "first, second, third = word\n",
    "print(f'첫 번째 문자: {first}, 두 번째 문자: {second}')"
   ]
  },
  {
   "cell_type": "code",
   "execution_count": 4,
   "metadata": {},
   "outputs": [
    {
     "name": "stdout",
     "output_type": "stream",
     "text": [
      "첫 달(1월) 판매액: 1200\n",
      "마지막 달(12월) 판매액: 2000\n",
      "중간 달(2~11월)의 판매액: [1350, 1420, 1500, 1300, 1580, 1620, 1700, 1800, 1850, 1900]\n"
     ]
    }
   ],
   "source": [
    "# 확장 언패킹\n",
    "monthly_sales = [1200, 1350, 1420, 1500, 1300, 1580,\n",
    "                 1620, 1700, 1800, 1850, 1900, 2000]\n",
    "first, *middle, last = monthly_sales\n",
    "print(f\"첫 달(1월) 판매액: {first}\")\n",
    "print(f\"마지막 달(12월) 판매액: {last}\")\n",
    "print(f\"중간 달(2~11월)의 판매액: {middle}\")"
   ]
  },
  {
   "cell_type": "code",
   "execution_count": 5,
   "metadata": {},
   "outputs": [
    {
     "name": "stdout",
     "output_type": "stream",
     "text": [
      "Hello, Data Analysis with Open Source!\n",
      "Hello, Data Analysis with Open Source!\n",
      "Hello, Data Analysis with Open Source!\n",
      "Hello, Data Analysis with Open Source!\n",
      "Hello, Data Analysis with Open Source!\n"
     ]
    }
   ],
   "source": [
    "## 언더스코어\n",
    "for _ in range(5):\n",
    "    print(\"Hello, Data Analysis with Open Source!\")"
   ]
  },
  {
   "cell_type": "code",
   "execution_count": 7,
   "metadata": {},
   "outputs": [
    {
     "name": "stdout",
     "output_type": "stream",
     "text": [
      "이름과 성적 출력:\n",
      "김철수의 성적: 3.8\n",
      "이영희의 성적: 4.2\n",
      "박민수의 성적: 3.5\n",
      "이름과 성적 출력:\n",
      "김철수의 성적: 3.8\n",
      "이영희의 성적: 4.2\n",
      "박민수의 성적: 3.5\n"
     ]
    }
   ],
   "source": [
    "# 필요하지 않은 요소가 있는 경우 _ 사용하여 해당 요소 무시\n",
    "students = [\n",
    "    (20251234, '김철수', '컴퓨터과학', 2, 3.8),\n",
    "    (20265678, '이영희', '생활과학부', 3, 4.2),\n",
    "    (20243456, '박민수', '사회복지학과', 1, 3.5)\n",
    "]\n",
    "print('이름과 성적 출력:')\n",
    "for _, name, _, _, grade in students:\n",
    "    print(f'{name}의 성적: {grade}')\n",
    "    \n",
    "print('이름과 성적 출력:')\n",
    "for stn, name, dept, year, grade in students:\n",
    "    print(f'{name}의 성적: {grade}')"
   ]
  },
  {
   "cell_type": "code",
   "execution_count": 2,
   "metadata": {},
   "outputs": [
    {
     "ename": "ValueError",
     "evalue": "invalid literal for int() with base 10: '0.5'",
     "output_type": "error",
     "traceback": [
      "\u001b[1;31m---------------------------------------------------------------------------\u001b[0m",
      "\u001b[1;31mValueError\u001b[0m                                Traceback (most recent call last)",
      "Cell \u001b[1;32mIn[2], line 2\u001b[0m\n\u001b[0;32m      1\u001b[0m \u001b[38;5;66;03m## 예외 처리\u001b[39;00m\n\u001b[1;32m----> 2\u001b[0m number \u001b[38;5;241m=\u001b[39m \u001b[38;5;28;43mint\u001b[39;49m\u001b[43m(\u001b[49m\u001b[38;5;28;43minput\u001b[39;49m\u001b[43m(\u001b[49m\u001b[38;5;124;43m'\u001b[39;49m\u001b[38;5;124;43m정수를 입력하세요: \u001b[39;49m\u001b[38;5;124;43m'\u001b[39;49m\u001b[43m)\u001b[49m\u001b[43m)\u001b[49m\n\u001b[0;32m      3\u001b[0m result \u001b[38;5;241m=\u001b[39m \u001b[38;5;241m10\u001b[39m \u001b[38;5;241m/\u001b[39m number\n\u001b[0;32m      4\u001b[0m \u001b[38;5;28mprint\u001b[39m(\u001b[38;5;124mf\u001b[39m\u001b[38;5;124m'\u001b[39m\u001b[38;5;124m결과: \u001b[39m\u001b[38;5;132;01m{\u001b[39;00mresult\u001b[38;5;132;01m}\u001b[39;00m\u001b[38;5;124m'\u001b[39m)       \u001b[38;5;66;03m# 정수가 아닌 입력이 들어가면 오류 발생\u001b[39;00m\n",
      "\u001b[1;31mValueError\u001b[0m: invalid literal for int() with base 10: '0.5'"
     ]
    }
   ],
   "source": [
    "## 예외 처리\n",
    "number = int(input('정수를 입력하세요: '))\n",
    "result = 10 / number\n",
    "print(f'결과: {result}')       # 정수가 아닌 입력이 들어가면 오류 발생\n"
   ]
  },
  {
   "cell_type": "code",
   "execution_count": 4,
   "metadata": {},
   "outputs": [
    {
     "ename": "ValueError",
     "evalue": "invalid literal for int() with base 10: '0.4'",
     "output_type": "error",
     "traceback": [
      "\u001b[1;31m---------------------------------------------------------------------------\u001b[0m",
      "\u001b[1;31mValueError\u001b[0m                                Traceback (most recent call last)",
      "Cell \u001b[1;32mIn[4], line 2\u001b[0m\n\u001b[0;32m      1\u001b[0m \u001b[38;5;28;01mtry\u001b[39;00m:\n\u001b[1;32m----> 2\u001b[0m     number \u001b[38;5;241m=\u001b[39m \u001b[38;5;28;43mint\u001b[39;49m\u001b[43m(\u001b[49m\u001b[38;5;28;43minput\u001b[39;49m\u001b[43m(\u001b[49m\u001b[38;5;124;43m\"\u001b[39;49m\u001b[38;5;124;43m숫자를 입력하세요: \u001b[39;49m\u001b[38;5;124;43m\"\u001b[39;49m\u001b[43m)\u001b[49m\u001b[43m)\u001b[49m\n\u001b[0;32m      3\u001b[0m     result \u001b[38;5;241m=\u001b[39m \u001b[38;5;241m10\u001b[39m \u001b[38;5;241m/\u001b[39m number\n\u001b[0;32m      4\u001b[0m \u001b[38;5;28;01mexcept\u001b[39;00m \u001b[38;5;167;01mZeroDivisionError\u001b[39;00m:\n",
      "\u001b[1;31mValueError\u001b[0m: invalid literal for int() with base 10: '0.4'"
     ]
    }
   ],
   "source": [
    "try:\n",
    "    number = int(input(\"숫자를 입력하세요: \"))\n",
    "    result = 10 / number\n",
    "except ZeroDivisionError:\n",
    "    print(\"0으로 나눌 수 없습니다.\")"
   ]
  },
  {
   "cell_type": "code",
   "execution_count": 22,
   "metadata": {},
   "outputs": [
    {
     "name": "stdout",
     "output_type": "stream",
     "text": [
      "0으로 나눌 수 없습니다.\n"
     ]
    }
   ],
   "source": [
    "try:\n",
    "    number = int(input(\"숫자를 입력하세요: \"))\n",
    "    result = 10 / number\n",
    "except:\n",
    "    print(\"0으로 나눌 수 없습니다.\")"
   ]
  },
  {
   "cell_type": "code",
   "execution_count": 5,
   "metadata": {},
   "outputs": [
    {
     "name": "stdout",
     "output_type": "stream",
     "text": [
      "유효한 숫자를 입력해야 합니다.\n"
     ]
    }
   ],
   "source": [
    "try:\n",
    "    number = int(input(\"숫자를 입력하세요: \"))\n",
    "    result = 10 / number\n",
    "except ZeroDivisionError:\n",
    "    print(\"0으로 나눌 수 없습니다.\")\n",
    "except ValueError:\n",
    "    print(\"유효한 숫자를 입력해야 합니다.\")"
   ]
  },
  {
   "cell_type": "code",
   "execution_count": 9,
   "metadata": {},
   "outputs": [
    {
     "name": "stdout",
     "output_type": "stream",
     "text": [
      "파일을 찾을 수 없습니다.\n",
      "파일 작업 종료.\n"
     ]
    },
    {
     "ename": "NameError",
     "evalue": "name 'file' is not defined",
     "output_type": "error",
     "traceback": [
      "\u001b[1;31m---------------------------------------------------------------------------\u001b[0m",
      "\u001b[1;31mNameError\u001b[0m                                 Traceback (most recent call last)",
      "Cell \u001b[1;32mIn[9], line 10\u001b[0m\n\u001b[0;32m      8\u001b[0m \u001b[38;5;28;01mfinally\u001b[39;00m:\n\u001b[0;32m      9\u001b[0m     \u001b[38;5;28mprint\u001b[39m(\u001b[38;5;124m\"\u001b[39m\u001b[38;5;124m파일 작업 종료.\u001b[39m\u001b[38;5;124m\"\u001b[39m)\n\u001b[1;32m---> 10\u001b[0m     \u001b[43mfile\u001b[49m\u001b[38;5;241m.\u001b[39mclose()\n",
      "\u001b[1;31mNameError\u001b[0m: name 'file' is not defined"
     ]
    }
   ],
   "source": [
    "# finally 블록\n",
    "try:\n",
    "    file = open('data.csv', 'r')\n",
    "    content = file.read()\n",
    "    print(content)\n",
    "except FileNotFoundError:\n",
    "    print('파일을 찾을 수 없습니다.')\n",
    "finally:\n",
    "    print(\"파일 작업 종료.\")\n",
    "    file.close()"
   ]
  },
  {
   "cell_type": "code",
   "execution_count": 11,
   "metadata": {},
   "outputs": [
    {
     "name": "stdout",
     "output_type": "stream",
     "text": [
      "5\n",
      "5\n"
     ]
    }
   ],
   "source": [
    "# 람다 함수\n",
    "def add(x):\n",
    "    return x + 2\n",
    "\n",
    "add_lambda = lambda x: x + 2\n",
    "\n",
    "print(add(3))\n",
    "print(add_lambda(3))"
   ]
  },
  {
   "cell_type": "code",
   "execution_count": 14,
   "metadata": {},
   "outputs": [
    {
     "name": "stdout",
     "output_type": "stream",
     "text": [
      "{'이지혜': 3300000.0000000005, '구민준': 5500000.0, '방서연': 4510000.0}\n"
     ]
    }
   ],
   "source": [
    "# 람다 함수의 활용\n",
    "employees = {\n",
    "    '이지혜': 3000000,\n",
    "    '구민준': 5000000,\n",
    "    '방서연': 4100000\n",
    "}\n",
    "\n",
    "adjust_salary = lambda salary: salary * 1.1\n",
    "\n",
    "updated_salaries = {name: adjust_salary(salary) for name, salary in employees.items()}\n",
    "\n",
    "print(updated_salaries)"
   ]
  },
  {
   "cell_type": "code",
   "execution_count": 15,
   "metadata": {},
   "outputs": [
    {
     "name": "stdout",
     "output_type": "stream",
     "text": [
      "섭씨 온도 데이터: [25.6, 27.8, 30.5, 22.3, 28.9, 31.2, 24.7]\n",
      "화씨 온도로 변환: [78.08, 82.04, 86.9, 72.14, 84.02, 88.16, 76.46]\n"
     ]
    }
   ],
   "source": [
    "# map 함수\n",
    "temperature_celsius = [25.6, 27.8, 30.5, 22.3, 28.9, 31.2, 24.7]\n",
    "celsius_to_fahrenheit = lambda c: (c * 9/5) + 32\n",
    "temperature_fahrenheit = list(map(celsius_to_fahrenheit, temperature_celsius))\n",
    "\n",
    "print(\"섭씨 온도 데이터:\", temperature_celsius)\n",
    "print(\"화씨 온도로 변환:\", temperature_fahrenheit)"
   ]
  },
  {
   "cell_type": "code",
   "execution_count": 19,
   "metadata": {},
   "outputs": [
    {
     "name": "stdout",
     "output_type": "stream",
     "text": [
      "70점 이상 합격한 학생 목록:\n",
      "이름: 김지원, 점수: 85\n",
      "이름: 박서연, 점수: 90\n",
      "이름: 최예은, 점수: 78\n"
     ]
    }
   ],
   "source": [
    "# filter 함수\n",
    "osda_students = [\n",
    "    {\"name\": \"김지원\", \"score\": 85},\n",
    "    {\"name\": \"이민준\", \"score\": 65},\n",
    "    {\"name\": \"박서연\", \"score\": 90},\n",
    "    {\"name\": \"정현우\", \"score\": 55},\n",
    "    {\"name\": \"최예은\", \"score\": 78}\n",
    "]\n",
    "\n",
    "passed_students = list(filter(lambda student: student[\"score\"] >= 70, osda_students))\n",
    "\n",
    "print(\"70점 이상 합격한 학생 목록:\")\n",
    "for student in passed_students:\n",
    "    print(f\"이름: {student['name']}, 점수: {student['score']}\")"
   ]
  },
  {
   "cell_type": "code",
   "execution_count": 20,
   "metadata": {},
   "outputs": [
    {
     "name": "stdout",
     "output_type": "stream",
     "text": [
      "15\n"
     ]
    }
   ],
   "source": [
    "# reduce 함수\n",
    "from functools import reduce\n",
    "numbers = [1, 2, 3, 4, 5]\n",
    "total_sum = reduce(lambda x, y: x + y, numbers)\n",
    "print(total_sum)"
   ]
  }
 ],
 "metadata": {
  "kernelspec": {
   "display_name": "Python 3",
   "language": "python",
   "name": "python3"
  },
  "language_info": {
   "codemirror_mode": {
    "name": "ipython",
    "version": 3
   },
   "file_extension": ".py",
   "mimetype": "text/x-python",
   "name": "python",
   "nbconvert_exporter": "python",
   "pygments_lexer": "ipython3",
   "version": "3.11.3"
  }
 },
 "nbformat": 4,
 "nbformat_minor": 4
}
