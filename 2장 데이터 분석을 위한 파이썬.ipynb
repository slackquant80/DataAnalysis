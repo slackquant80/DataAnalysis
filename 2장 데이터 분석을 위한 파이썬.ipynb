{
 "cells": [
  {
   "cell_type": "code",
   "execution_count": 2,
   "metadata": {},
   "outputs": [
    {
     "name": "stdout",
     "output_type": "stream",
     "text": [
      "[10, 20, 30]\n"
     ]
    }
   ],
   "source": [
    "numbers = [10, 20, 30, 40, 50, 60, 70]\n",
    "subset1 = numbers[ :3]         # 0:3 해줘도 됨\n",
    "print(subset1)"
   ]
  },
  {
   "cell_type": "code",
   "execution_count": null,
   "metadata": {},
   "outputs": [
    {
     "name": "stdout",
     "output_type": "stream",
     "text": [
      "[50, 60, 70]\n"
     ]
    }
   ],
   "source": [
    "subset2 = numbers[-3:]         # -3:7 해줘도 됨\n",
    "print(subset2)"
   ]
  },
  {
   "cell_type": "code",
   "execution_count": 4,
   "metadata": {},
   "outputs": [
    {
     "name": "stdout",
     "output_type": "stream",
     "text": [
      "[10, 30, 50, 70]\n"
     ]
    }
   ],
   "source": [
    "numbers = [10, 20, 30, 40, 50, 60, 70]\n",
    "list1 = numbers[::2]\n",
    "print(list1)"
   ]
  },
  {
   "cell_type": "code",
   "execution_count": 5,
   "metadata": {},
   "outputs": [
    {
     "name": "stdout",
     "output_type": "stream",
     "text": [
      "[70, 60, 50, 40, 30, 20, 10]\n"
     ]
    }
   ],
   "source": [
    "list2 = numbers[::-1]\n",
    "print(list2)"
   ]
  },
  {
   "cell_type": "code",
   "execution_count": 6,
   "metadata": {},
   "outputs": [
    {
     "name": "stdout",
     "output_type": "stream",
     "text": [
      "[70, 50, 30, 10]\n"
     ]
    }
   ],
   "source": [
    "list3 = numbers[::-2]\n",
    "print(list3)"
   ]
  },
  {
   "cell_type": "code",
   "execution_count": 7,
   "metadata": {},
   "outputs": [
    {
     "data": {
      "text/plain": [
       "[70]"
      ]
     },
     "execution_count": 7,
     "metadata": {},
     "output_type": "execute_result"
    }
   ],
   "source": [
    "numbers[-1::]"
   ]
  },
  {
   "cell_type": "code",
   "execution_count": 19,
   "metadata": {},
   "outputs": [
    {
     "name": "stdout",
     "output_type": "stream",
     "text": [
      "[[1, 2, 3, 4], [5, 6, 7, 8]]\n",
      "[[1, 2], [5, 6], [9, 10], [13, 14]]\n"
     ]
    }
   ],
   "source": [
    "# 다차원 리스트 슬라이싱\n",
    "matrix = [\n",
    "    [1, 2, 3, 4],\n",
    "    [5, 6, 7, 8],\n",
    "    [9, 10, 11, 12],\n",
    "    [13, 14, 15, 16]\n",
    "]\n",
    "\n",
    "first_two_rows = matrix[ :2]\n",
    "print(first_two_rows)\n",
    "\n",
    "first_two_columns = [row[ :2] for row in matrix]\n",
    "print(first_two_columns)"
   ]
  },
  {
   "cell_type": "code",
   "execution_count": 8,
   "metadata": {},
   "outputs": [
    {
     "name": "stdout",
     "output_type": "stream",
     "text": [
      "[0, 1, 2, 3, 4]\n"
     ]
    }
   ],
   "source": [
    "## 리스트 컴프리헨션\n",
    "# 일반적\n",
    "numbers = []\n",
    "for i in range(5):\n",
    "    numbers.append(i)\n",
    "    \n",
    "print(numbers)"
   ]
  },
  {
   "cell_type": "code",
   "execution_count": 9,
   "metadata": {},
   "outputs": [
    {
     "name": "stdout",
     "output_type": "stream",
     "text": [
      "[0, 1, 2, 3, 4]\n"
     ]
    }
   ],
   "source": [
    "# 리스트 컴프리헨션\n",
    "numbers = [i for i in range(5)]\n",
    "print(numbers)"
   ]
  },
  {
   "cell_type": "code",
   "execution_count": 10,
   "metadata": {},
   "outputs": [
    {
     "name": "stdout",
     "output_type": "stream",
     "text": [
      "[1, 4, 9, 16, 25]\n"
     ]
    }
   ],
   "source": [
    "# 원소 조작\n",
    "numbers = [1, 2, 3, 4, 5]\n",
    "squares = [num ** 2 for num in numbers]\n",
    "print(squares)"
   ]
  },
  {
   "cell_type": "code",
   "execution_count": 11,
   "metadata": {},
   "outputs": [
    {
     "name": "stdout",
     "output_type": "stream",
     "text": [
      "[2, 4, 6, 8, 10]\n"
     ]
    }
   ],
   "source": [
    "# 조건 추가\n",
    "numbers = [1, 2, 3, 4, 5, 6, 7, 8, 9, 10]\n",
    "even_numbers = [num for num in numbers if num % 2 == 0]\n",
    "print(even_numbers)"
   ]
  },
  {
   "cell_type": "code",
   "execution_count": 20,
   "metadata": {},
   "outputs": [
    {
     "name": "stdout",
     "output_type": "stream",
     "text": [
      "[('사과', '주스'), ('사과', '잼'), ('사과', '통조림'), ('복숭아', '주스'), ('복숭아', '잼'), ('복숭아', '통조림'), ('바나나', '주스'), ('바나나', '잼'), ('바나나', '통조림')]\n"
     ]
    }
   ],
   "source": [
    "# 두 리스트의 모든 조합을 포함하는 리스트 생성\n",
    "list1 = ['사과', '복숭아', '바나나']\n",
    "list2 = ['주스', '잼', '통조림']\n",
    "pairs = [(fruit, product) for fruit in list1 for product in list2]\n",
    "print(pairs)"
   ]
  },
  {
   "cell_type": "code",
   "execution_count": 12,
   "metadata": {},
   "outputs": [
    {
     "name": "stdout",
     "output_type": "stream",
     "text": [
      "{0: 0, 1: 1, 2: 4, 3: 9, 4: 16}\n"
     ]
    }
   ],
   "source": [
    "## 딕셔너리 컴프리헨션\n",
    "# 일반적\n",
    "squares = {}\n",
    "for i in range(5):\n",
    "    squares[i] = i ** 2\n",
    "    \n",
    "print(squares)"
   ]
  },
  {
   "cell_type": "code",
   "execution_count": 13,
   "metadata": {},
   "outputs": [
    {
     "name": "stdout",
     "output_type": "stream",
     "text": [
      "{0: 0, 1: 1, 2: 4, 3: 9, 4: 16}\n"
     ]
    }
   ],
   "source": [
    "# 컴프리헨션\n",
    "squares = {i: i ** 2 for i in range(5)}\n",
    "print(squares)"
   ]
  },
  {
   "cell_type": "code",
   "execution_count": 14,
   "metadata": {},
   "outputs": [
    {
     "name": "stdout",
     "output_type": "stream",
     "text": [
      "상품명: 프린터, 가격: 360000\n"
     ]
    }
   ],
   "source": [
    "# 형식 지정자 사용한 변수 삽입\n",
    "item = '프린터'\n",
    "price = 360000\n",
    "print('상품명: %s, 가격: %d' % (item, price))"
   ]
  },
  {
   "cell_type": "code",
   "execution_count": 15,
   "metadata": {},
   "outputs": [
    {
     "name": "stdout",
     "output_type": "stream",
     "text": [
      "상품명: 프린터, 가격: 360000\n"
     ]
    }
   ],
   "source": [
    "# 새로운 포맷팅\n",
    "item = \"프린터\"\n",
    "price = 360000\n",
    "print(\"상품명: {}, 가격: {}\".format(item, price))"
   ]
  },
  {
   "cell_type": "code",
   "execution_count": 16,
   "metadata": {},
   "outputs": [
    {
     "name": "stdout",
     "output_type": "stream",
     "text": [
      "이름: 홍길동, 나이: 30, 월급: 3500000원\n"
     ]
    }
   ],
   "source": [
    "name = '홍길동'\n",
    "age = 30\n",
    "salary = 3500000\n",
    "tax_rate = 0.1\n",
    "basic_format = '이름: {}, 나이: {}, 월급: {}원'.format(name, age, salary)\n",
    "\n",
    "print(basic_format)"
   ]
  },
  {
   "cell_type": "code",
   "execution_count": 17,
   "metadata": {},
   "outputs": [
    {
     "name": "stdout",
     "output_type": "stream",
     "text": [
      "이름: 홍길동, 나이: 30\n"
     ]
    }
   ],
   "source": [
    "# f-문자열\n",
    "name = '홍길동'\n",
    "age = 30\n",
    "print(f'이름: {name}, 나이: {age}')"
   ]
  },
  {
   "cell_type": "code",
   "execution_count": 18,
   "metadata": {},
   "outputs": [
    {
     "name": "stdout",
     "output_type": "stream",
     "text": [
      "이름: 홍길동, 나이: 30, 월급: 3500000원\n",
      "직원 홍길동의 나이는 30세이고, 홍길동의 세후 월급은 3150000원입니다.\n",
      "직원정보: 이름: 홍길동 나이: 30세 월급: 3,500,000원 세금: 10.0% 실수령액: 3,150,000원\n"
     ]
    }
   ],
   "source": [
    "basic_format = f'이름: {name}, 나이: {age}, 월급: {salary}원'\n",
    "index_format = f'직원 {name}의 나이는 {age}세이고, {name}의 세후 월급은 {int(salary * (1 - tax_rate))}원입니다.'\n",
    "keyword_format = f'직원정보: 이름: {name} 나이: {age}세 월급: {salary:,}원 세금: {tax_rate:.1%} 실수령액: {int(salary * (1 - tax_rate)):,}원'\n",
    "\n",
    "print(basic_format)\n",
    "print(index_format)\n",
    "print(keyword_format)"
   ]
  },
  {
   "cell_type": "code",
   "execution_count": 21,
   "metadata": {},
   "outputs": [
    {
     "name": "stdout",
     "output_type": "stream",
     "text": [
      "학번,이름,데이터베이스,파이썬,클라우드\n",
      "101,김철수,85,78,92\n",
      "102,이영희,76,82,78\n",
      "103,박지민,92,95,85\n",
      "104,최준서,63,70,75\n",
      "105,정미나,88,84,91\n",
      "\n"
     ]
    }
   ],
   "source": [
    "## with 문 사용 예\n",
    "import urllib.request\n",
    "with urllib.request.urlopen('https://raw.githubusercontent.com/jaehwachung/Data-Analysis-with-Open-Source/refs/heads/main/Chapter%203/students.csv') as response:\n",
    "    data = response.read().decode('utf-8')\n",
    "print(data)"
   ]
  },
  {
   "cell_type": "code",
   "execution_count": 3,
   "metadata": {},
   "outputs": [
    {
     "name": "stdout",
     "output_type": "stream",
     "text": [
      "x좌표: 10, y좌표: 20\n",
      "빨강: 255, 초록: 128, 파랑: 0\n",
      "첫 번째 문자: A, 두 번째 문자: B\n"
     ]
    }
   ],
   "source": [
    "## 언패킹 사용\n",
    "coordinates = (10, 20)\n",
    "x, y = coordinates\n",
    "print(f'x좌표: {x}, y좌표: {y}')\n",
    "\n",
    "rgb = [255, 128, 0]\n",
    "red, green, blue = rgb\n",
    "print(f'빨강: {red}, 초록: {green}, 파랑: {blue}')\n",
    "\n",
    "word = 'ABC'\n",
    "first, second, third = word\n",
    "print(f'첫 번째 문자: {first}, 두 번째 문자: {second}')"
   ]
  },
  {
   "cell_type": "code",
   "execution_count": 4,
   "metadata": {},
   "outputs": [
    {
     "name": "stdout",
     "output_type": "stream",
     "text": [
      "첫 달(1월) 판매액: 1200\n",
      "마지막 달(12월) 판매액: 2000\n",
      "중간 달(2~11월)의 판매액: [1350, 1420, 1500, 1300, 1580, 1620, 1700, 1800, 1850, 1900]\n"
     ]
    }
   ],
   "source": [
    "# 확장 언패킹\n",
    "monthly_sales = [1200, 1350, 1420, 1500, 1300, 1580,\n",
    "                 1620, 1700, 1800, 1850, 1900, 2000]\n",
    "first, *middle, last = monthly_sales\n",
    "print(f\"첫 달(1월) 판매액: {first}\")\n",
    "print(f\"마지막 달(12월) 판매액: {last}\")\n",
    "print(f\"중간 달(2~11월)의 판매액: {middle}\")"
   ]
  },
  {
   "cell_type": "code",
   "execution_count": 5,
   "metadata": {},
   "outputs": [
    {
     "name": "stdout",
     "output_type": "stream",
     "text": [
      "Hello, Data Analysis with Open Source!\n",
      "Hello, Data Analysis with Open Source!\n",
      "Hello, Data Analysis with Open Source!\n",
      "Hello, Data Analysis with Open Source!\n",
      "Hello, Data Analysis with Open Source!\n"
     ]
    }
   ],
   "source": [
    "## 언더스코어\n",
    "for _ in range(5):\n",
    "    print(\"Hello, Data Analysis with Open Source!\")"
   ]
  },
  {
   "cell_type": "code",
   "execution_count": 7,
   "metadata": {},
   "outputs": [
    {
     "name": "stdout",
     "output_type": "stream",
     "text": [
      "이름과 성적 출력:\n",
      "김철수의 성적: 3.8\n",
      "이영희의 성적: 4.2\n",
      "박민수의 성적: 3.5\n",
      "이름과 성적 출력:\n",
      "김철수의 성적: 3.8\n",
      "이영희의 성적: 4.2\n",
      "박민수의 성적: 3.5\n"
     ]
    }
   ],
   "source": [
    "# 필요하지 않은 요소가 있는 경우 _ 사용하여 해당 요소 무시\n",
    "students = [\n",
    "    (20251234, '김철수', '컴퓨터과학', 2, 3.8),\n",
    "    (20265678, '이영희', '생활과학부', 3, 4.2),\n",
    "    (20243456, '박민수', '사회복지학과', 1, 3.5)\n",
    "]\n",
    "print('이름과 성적 출력:')\n",
    "for _, name, _, _, grade in students:\n",
    "    print(f'{name}의 성적: {grade}')\n",
    "    \n",
    "print('이름과 성적 출력:')\n",
    "for stn, name, dept, year, grade in students:\n",
    "    print(f'{name}의 성적: {grade}')"
   ]
  }
 ],
 "metadata": {
  "kernelspec": {
   "display_name": "Python 3",
   "language": "python",
   "name": "python3"
  },
  "language_info": {
   "codemirror_mode": {
    "name": "ipython",
    "version": 3
   },
   "file_extension": ".py",
   "mimetype": "text/x-python",
   "name": "python",
   "nbconvert_exporter": "python",
   "pygments_lexer": "ipython3",
   "version": "3.11.3"
  }
 },
 "nbformat": 4,
 "nbformat_minor": 4
}
